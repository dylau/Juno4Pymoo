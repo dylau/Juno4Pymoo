{
 "cells": [
  {
   "cell_type": "code",
   "execution_count": 3,
   "metadata": {},
   "outputs": [
    {
     "name": "stdout",
     "output_type": "stream",
     "text": [
      "hi from ipad!\n"
     ]
    }
   ],
   "source": [
    "print(\"hi from ipad!\")"
   ]
  },
  {
   "cell_type": "code",
   "execution_count": 4,
   "metadata": {},
   "outputs": [],
   "source": [
    "import numpy as np\n",
    "from pymoo.model.problem import Problem"
   ]
  },
  {
   "cell_type": "code",
   "execution_count": 11,
   "metadata": {},
   "outputs": [],
   "source": [
    "# define problem by class\n",
    "class MyProblem(Problem):\n",
    "\n",
    "    def __init__(self):\n",
    "        super().__init__(n_var=2,\n",
    "                         n_obj=2,\n",
    "                         n_constr=2,\n",
    "                         xl=np.array([-2,-2]),\n",
    "                         xu=np.array([2,2]))\n",
    "\n",
    "    def _evaluate(self, X, out, *args, **kwargs):\n",
    "        f1 = X[:,0]**2 + X[:,1]**2\n",
    "        f2 = (X[:,0]-1)**2 + X[:,1]**2\n",
    "\n",
    "        g1 = 2*(X[:, 0]-0.1) * (X[:, 0]-0.9) / 0.18\n",
    "        g2 = - 20*(X[:, 0]-0.4) * (X[:, 0]-0.6) / 4.8\n",
    "\n",
    "        out[\"F\"] = np.column_stack([f1, f2])\n",
    "        out[\"G\"] = np.column_stack([g1, g2])\n",
    "problem = MyProblem()"
   ]
  },
  {
   "cell_type": "markdown",
   "metadata": {},
   "source": []
  },
  {
   "cell_type": "code",
   "execution_count": 17,
   "metadata": {},
   "outputs": [],
   "source": [
    "# initialize algorithm\n",
    "from pymoo.algorithms.nsga2 import NSGA2\n",
    "from pymoo.factory import get_sampling, get_crossover, get_mutation\n",
    "\n",
    "algorithm = NSGA2(\n",
    "    pop_size=50,\n",
    "    n_offsprings=10,\n",
    "    sampling=get_sampling(\"real_random\"),\n",
    "    crossover=get_crossover(\"real_sbx\", prob=0.9, eta=15),\n",
    "    mutation=get_mutation(\"real_pm\", eta=20),\n",
    "    eliminate_duplicates=True\n",
    ")"
   ]
  },
  {
   "cell_type": "code",
   "execution_count": 18,
   "metadata": {},
   "outputs": [],
   "source": [
    "# define termination criterion\n",
    "from pymoo.factory import get_termination\n",
    "\n",
    "termination = get_termination(\"n_gen\", 50)"
   ]
  },
  {
   "cell_type": "code",
   "execution_count": 19,
   "metadata": {},
   "outputs": [
    {
     "name": "stdout",
     "output_type": "stream",
     "text": [
      "=====================================================================================\n",
      "n_gen |  n_eval |   cv (min)   |   cv (avg)   |  n_nds  |     eps      |  indicator  \n",
      "=====================================================================================\n",
      "    1 |     100 |  0.00000E+00 |  2.11633E+01 |       2 |            - |            -\n",
      "    2 |     110 |  0.00000E+00 |  1.61114E+01 |       2 |  0.005331644 |        ideal\n",
      "    3 |     120 |  0.00000E+00 |  1.11664E+01 |       2 |  0.00000E+00 |            f\n",
      "    4 |     130 |  0.00000E+00 |  7.823294019 |       2 |  0.00000E+00 |            f\n",
      "    5 |     140 |  0.00000E+00 |  5.245543749 |       2 |  0.00000E+00 |            f\n",
      "    6 |     150 |  0.00000E+00 |  3.500112580 |       2 |  0.00000E+00 |            f\n",
      "    7 |     160 |  0.00000E+00 |  2.073072246 |       5 |  0.205573203 |        ideal\n",
      "    8 |     170 |  0.00000E+00 |  1.198056366 |       3 |  0.316071615 |        ideal\n",
      "    9 |     180 |  0.00000E+00 |  0.538462162 |       3 |  0.00000E+00 |            f\n",
      "   10 |     190 |  0.00000E+00 |  0.153077927 |       4 |  0.021440818 |            f\n",
      "   11 |     200 |  0.00000E+00 |  0.035854005 |       5 |  0.011561667 |            f\n",
      "   12 |     210 |  0.00000E+00 |  0.003274527 |       5 |  0.00000E+00 |            f\n",
      "   13 |     220 |  0.00000E+00 |  0.000704552 |       6 |  0.030748360 |        ideal\n",
      "   14 |     230 |  0.00000E+00 |  0.00000E+00 |       7 |  0.094606915 |        ideal\n",
      "   15 |     240 |  0.00000E+00 |  0.00000E+00 |       7 |  0.00000E+00 |            f\n",
      "   16 |     250 |  0.00000E+00 |  0.00000E+00 |       8 |  0.013012540 |            f\n",
      "   17 |     260 |  0.00000E+00 |  0.00000E+00 |      10 |  0.024947369 |        ideal\n",
      "   18 |     270 |  0.00000E+00 |  0.00000E+00 |      12 |  0.030900443 |        ideal\n",
      "   19 |     280 |  0.00000E+00 |  0.00000E+00 |      13 |  0.001021356 |            f\n",
      "   20 |     290 |  0.00000E+00 |  0.00000E+00 |      13 |  0.00000E+00 |            f\n",
      "   21 |     300 |  0.00000E+00 |  0.00000E+00 |      14 |  0.002958745 |            f\n",
      "   22 |     310 |  0.00000E+00 |  0.00000E+00 |      16 |  0.002095224 |            f\n",
      "   23 |     320 |  0.00000E+00 |  0.00000E+00 |      16 |  0.00000E+00 |            f\n",
      "   24 |     330 |  0.00000E+00 |  0.00000E+00 |      17 |  0.001226983 |            f\n",
      "   25 |     340 |  0.00000E+00 |  0.00000E+00 |      18 |  0.002666546 |            f\n",
      "   26 |     350 |  0.00000E+00 |  0.00000E+00 |      19 |  0.000390219 |            f\n",
      "   27 |     360 |  0.00000E+00 |  0.00000E+00 |      19 |  0.004178812 |            f\n",
      "   28 |     370 |  0.00000E+00 |  0.00000E+00 |      20 |  0.003384656 |            f\n",
      "   29 |     380 |  0.00000E+00 |  0.00000E+00 |      22 |  0.018454952 |        ideal\n",
      "   30 |     390 |  0.00000E+00 |  0.00000E+00 |      22 |  0.00000E+00 |            f\n",
      "   31 |     400 |  0.00000E+00 |  0.00000E+00 |      23 |  0.000304134 |            f\n",
      "   32 |     410 |  0.00000E+00 |  0.00000E+00 |      23 |  0.00000E+00 |            f\n",
      "   33 |     420 |  0.00000E+00 |  0.00000E+00 |      26 |  0.010506043 |        ideal\n",
      "   34 |     430 |  0.00000E+00 |  0.00000E+00 |      26 |  0.00000E+00 |            f\n",
      "   35 |     440 |  0.00000E+00 |  0.00000E+00 |      27 |  0.010725399 |        nadir\n",
      "   36 |     450 |  0.00000E+00 |  0.00000E+00 |      29 |  0.002144306 |            f\n",
      "   37 |     460 |  0.00000E+00 |  0.00000E+00 |      30 |  0.004925975 |        ideal\n",
      "   38 |     470 |  0.00000E+00 |  0.00000E+00 |      32 |  0.001153551 |            f\n",
      "   39 |     480 |  0.00000E+00 |  0.00000E+00 |      33 |  0.000701651 |            f\n",
      "   40 |     490 |  0.00000E+00 |  0.00000E+00 |      35 |  0.007567194 |        nadir\n",
      "   41 |     500 |  0.00000E+00 |  0.00000E+00 |      38 |  0.000819949 |            f\n",
      "   42 |     510 |  0.00000E+00 |  0.00000E+00 |      38 |  1.86138E-06 |            f\n",
      "   43 |     520 |  0.00000E+00 |  0.00000E+00 |      40 |  0.000268228 |            f\n",
      "   44 |     530 |  0.00000E+00 |  0.00000E+00 |      42 |  0.002419268 |            f\n",
      "   45 |     540 |  0.00000E+00 |  0.00000E+00 |      43 |  0.000266045 |            f\n",
      "   46 |     550 |  0.00000E+00 |  0.00000E+00 |      44 |  0.000362059 |            f\n",
      "   47 |     560 |  0.00000E+00 |  0.00000E+00 |      46 |  0.000120608 |            f\n",
      "   48 |     570 |  0.00000E+00 |  0.00000E+00 |      50 |  0.003428555 |        ideal\n",
      "   49 |     580 |  0.00000E+00 |  0.00000E+00 |      53 |  0.000434084 |            f\n",
      "   50 |     590 |  0.00000E+00 |  0.00000E+00 |      54 |  0.000088969 |            f\n"
     ]
    }
   ],
   "source": [
    "from pymoo.optimize import minimize\n",
    "\n",
    "res = minimize(problem,\n",
    "               algorithm,\n",
    "               termination,\n",
    "               seed=1,\n",
    "               save_history=True,\n",
    "               verbose=True)"
   ]
  },
  {
   "cell_type": "code",
   "execution_count": 20,
   "metadata": {},
   "outputs": [
    {
     "data": {
      "text/plain": [
       "<pymoo.visualization.scatter.Scatter at 0x7f5cd6862c50>"
      ]
     },
     "execution_count": 20,
     "metadata": {},
     "output_type": "execute_result"
    },
    {
     "data": {
      "image/png": "[encoded data removed]",
      "text/plain": [
       "<Figure size 576x432 with 1 Axes>"
      ]
     },
     "metadata": {
      "needs_background": "light"
     },
     "output_type": "display_data"
    }
   ],
   "source": [
    "from pymoo.visualization.scatter import Scatter\n",
    "\n",
    "# get the pareto-set and pareto-front for plotting\n",
    "ps = problem.pareto_set(use_cache=False, flatten=False)\n",
    "pf = problem.pareto_front(use_cache=False, flatten=False)\n",
    "\n",
    "# Design Space\n",
    "plot = Scatter(title = \"Design Space\", axis_labels=\"x\")\n",
    "plot.add(res.X, s=30, facecolors='none', edgecolors='r')\n",
    "if ps is not None:\n",
    "    plot.add(ps, plot_type=\"line\", color=\"black\", alpha=0.7)\n",
    "plot.do()\n",
    "plot.apply(lambda ax: ax.set_xlim(-0.5, 1.5))\n",
    "plot.apply(lambda ax: ax.set_ylim(-2, 2))\n",
    "plot.show()\n",
    "\n",
    "# Objective Space\n",
    "plot = Scatter(title = \"Objective Space\")\n",
    "plot.add(res.F)\n",
    "if pf is not None:\n",
    "    plot.add(pf, plot_type=\"line\", color=\"black\", alpha=0.7)\n",
    "plot.show()"
   ]
  },
  {
   "cell_type": "code",
   "execution_count": 21,
   "metadata": {},
   "outputs": [
    {
     "data": {
      "image/png": "[encoded data removed]",
      "text/plain": [
       "<Figure size 432x288 with 1 Axes>"
      ]
     },
     "metadata": {
      "needs_background": "light"
     },
     "output_type": "display_data"
    }
   ],
   "source": [
    "from pymoo.util.running_metric import RunningMetric\n",
    "\n",
    "running = RunningMetric(delta_gen=10,\n",
    "                        n_plots=5,\n",
    "                        only_if_n_plots=True,\n",
    "                        key_press=False,\n",
    "                        do_show=True)\n",
    "\n",
    "for algorithm in res.history:\n",
    "    running.notify(algorithm)"
   ]
  },
  {
   "cell_type": "code",
   "execution_count": null,
   "metadata": {},
   "outputs": [],
   "source": []
  }
 ],
 "metadata": {
  "kernelspec": {
   "display_name": "Python 3",
   "language": "python",
   "name": "python3"
  },
  "language_info": {
   "codemirror_mode": {
    "name": "ipython",
    "version": 3
   },
   "file_extension": ".py",
   "mimetype": "text/x-python",
   "name": "python",
   "nbconvert_exporter": "python",
   "pygments_lexer": "ipython3",
   "version": "3.7.8"
  }
 },
 "nbformat": 4,
 "nbformat_minor": 4
}
